{
 "metadata": {
  "language_info": {
   "codemirror_mode": {
    "name": "ipython",
    "version": 3
   },
   "file_extension": ".py",
   "mimetype": "text/x-python",
   "name": "python",
   "nbconvert_exporter": "python",
   "pygments_lexer": "ipython3",
   "version": "3.8.8"
  },
  "orig_nbformat": 2,
  "kernelspec": {
   "name": "python388jvsc74a57bd09be38a6015254017d4edd2046b770be20849a1c5b230911009defc72922fbf9d",
   "display_name": "Python 3.8.5 64-bit ('base': conda)"
  }
 },
 "nbformat": 4,
 "nbformat_minor": 2,
 "cells": [
  {
   "source": [
    "# First Model with scikit Learn\n",
    "\n",
    "Based on the previous analysis on the adult_census data, we move forward to develop a simple KNN predictive model using the Scikit-Learn API: https://scikit-learn.org/stable/index.html \n",
    "\n",
    "Here, we will base our prediction on just numerical data that can be fed directly into a Machine Learning Model.  \n"
   ],
   "cell_type": "markdown",
   "metadata": {}
  },
  {
   "cell_type": "code",
   "execution_count": 2,
   "metadata": {},
   "outputs": [],
   "source": [
    "import pandas as pd \n",
    "\n",
    "adult_census = pd.read_csv(\"adult_census.csv\")"
   ]
  },
  {
   "cell_type": "code",
   "execution_count": 3,
   "metadata": {},
   "outputs": [
    {
     "output_type": "execute_result",
     "data": {
      "text/plain": [
       "(48842, 15)"
      ]
     },
     "metadata": {},
     "execution_count": 3
    }
   ],
   "source": [
    "adult_census.shape"
   ]
  },
  {
   "cell_type": "code",
   "execution_count": 4,
   "metadata": {},
   "outputs": [
    {
     "output_type": "execute_result",
     "data": {
      "text/plain": [
       "   age   workclass  fnlwgt      education  education-num       marital-status  \\\n",
       "0   25     Private  226802           11th              7        Never-married   \n",
       "1   38     Private   89814        HS-grad              9   Married-civ-spouse   \n",
       "2   28   Local-gov  336951     Assoc-acdm             12   Married-civ-spouse   \n",
       "3   44     Private  160323   Some-college             10   Married-civ-spouse   \n",
       "4   18           ?  103497   Some-college             10        Never-married   \n",
       "\n",
       "           occupation relationship    race      sex  capital-gain  \\\n",
       "0   Machine-op-inspct    Own-child   Black     Male             0   \n",
       "1     Farming-fishing      Husband   White     Male             0   \n",
       "2     Protective-serv      Husband   White     Male             0   \n",
       "3   Machine-op-inspct      Husband   Black     Male          7688   \n",
       "4                   ?    Own-child   White   Female             0   \n",
       "\n",
       "   capital-loss  hours-per-week  native-country   class  \n",
       "0             0              40   United-States   <=50K  \n",
       "1             0              50   United-States   <=50K  \n",
       "2             0              40   United-States    >50K  \n",
       "3             0              40   United-States    >50K  \n",
       "4             0              30   United-States   <=50K  "
      ],
      "text/html": "<div>\n<style scoped>\n    .dataframe tbody tr th:only-of-type {\n        vertical-align: middle;\n    }\n\n    .dataframe tbody tr th {\n        vertical-align: top;\n    }\n\n    .dataframe thead th {\n        text-align: right;\n    }\n</style>\n<table border=\"1\" class=\"dataframe\">\n  <thead>\n    <tr style=\"text-align: right;\">\n      <th></th>\n      <th>age</th>\n      <th>workclass</th>\n      <th>fnlwgt</th>\n      <th>education</th>\n      <th>education-num</th>\n      <th>marital-status</th>\n      <th>occupation</th>\n      <th>relationship</th>\n      <th>race</th>\n      <th>sex</th>\n      <th>capital-gain</th>\n      <th>capital-loss</th>\n      <th>hours-per-week</th>\n      <th>native-country</th>\n      <th>class</th>\n    </tr>\n  </thead>\n  <tbody>\n    <tr>\n      <th>0</th>\n      <td>25</td>\n      <td>Private</td>\n      <td>226802</td>\n      <td>11th</td>\n      <td>7</td>\n      <td>Never-married</td>\n      <td>Machine-op-inspct</td>\n      <td>Own-child</td>\n      <td>Black</td>\n      <td>Male</td>\n      <td>0</td>\n      <td>0</td>\n      <td>40</td>\n      <td>United-States</td>\n      <td>&lt;=50K</td>\n    </tr>\n    <tr>\n      <th>1</th>\n      <td>38</td>\n      <td>Private</td>\n      <td>89814</td>\n      <td>HS-grad</td>\n      <td>9</td>\n      <td>Married-civ-spouse</td>\n      <td>Farming-fishing</td>\n      <td>Husband</td>\n      <td>White</td>\n      <td>Male</td>\n      <td>0</td>\n      <td>0</td>\n      <td>50</td>\n      <td>United-States</td>\n      <td>&lt;=50K</td>\n    </tr>\n    <tr>\n      <th>2</th>\n      <td>28</td>\n      <td>Local-gov</td>\n      <td>336951</td>\n      <td>Assoc-acdm</td>\n      <td>12</td>\n      <td>Married-civ-spouse</td>\n      <td>Protective-serv</td>\n      <td>Husband</td>\n      <td>White</td>\n      <td>Male</td>\n      <td>0</td>\n      <td>0</td>\n      <td>40</td>\n      <td>United-States</td>\n      <td>&gt;50K</td>\n    </tr>\n    <tr>\n      <th>3</th>\n      <td>44</td>\n      <td>Private</td>\n      <td>160323</td>\n      <td>Some-college</td>\n      <td>10</td>\n      <td>Married-civ-spouse</td>\n      <td>Machine-op-inspct</td>\n      <td>Husband</td>\n      <td>Black</td>\n      <td>Male</td>\n      <td>7688</td>\n      <td>0</td>\n      <td>40</td>\n      <td>United-States</td>\n      <td>&gt;50K</td>\n    </tr>\n    <tr>\n      <th>4</th>\n      <td>18</td>\n      <td>?</td>\n      <td>103497</td>\n      <td>Some-college</td>\n      <td>10</td>\n      <td>Never-married</td>\n      <td>?</td>\n      <td>Own-child</td>\n      <td>White</td>\n      <td>Female</td>\n      <td>0</td>\n      <td>0</td>\n      <td>30</td>\n      <td>United-States</td>\n      <td>&lt;=50K</td>\n    </tr>\n  </tbody>\n</table>\n</div>"
     },
     "metadata": {},
     "execution_count": 4
    }
   ],
   "source": [
    "adult_census.head()"
   ]
  },
  {
   "source": [
    "### First identify and remove the Categorical Variables and keep just the numerical fields that would be fed into the Machine Learning Algorithm at a later stage. "
   ],
   "cell_type": "markdown",
   "metadata": {}
  },
  {
   "cell_type": "code",
   "execution_count": 5,
   "metadata": {},
   "outputs": [],
   "source": [
    "categorical_columns = [\n",
    "    'workclass', 'education', 'marital-status', 'occupation',\n",
    "    'relationship', 'race', 'sex', 'native-country']\n",
    "\n",
    "adult_census_numerical = adult_census.drop(axis = 1, columns = categorical_columns)"
   ]
  },
  {
   "cell_type": "code",
   "execution_count": 6,
   "metadata": {},
   "outputs": [],
   "source": [
    "adult_census_numerical = adult_census_numerical.drop(axis = 1, columns= 'fnlwgt')"
   ]
  },
  {
   "cell_type": "code",
   "execution_count": 7,
   "metadata": {},
   "outputs": [
    {
     "output_type": "execute_result",
     "data": {
      "text/plain": [
       "Index(['age', 'education-num', 'capital-gain', 'capital-loss',\n",
       "       'hours-per-week', 'class'],\n",
       "      dtype='object')"
      ]
     },
     "metadata": {},
     "execution_count": 7
    }
   ],
   "source": [
    "adult_census_numerical.columns"
   ]
  },
  {
   "cell_type": "code",
   "execution_count": 8,
   "metadata": {},
   "outputs": [
    {
     "output_type": "execute_result",
     "data": {
      "text/plain": [
       "       age  education-num  capital-gain  capital-loss  hours-per-week   class\n",
       "20143   41             11             0          1848              48    >50K\n",
       "42299   23             10             0             0              23   <=50K\n",
       "9087    48             10             0             0              45   <=50K\n",
       "40503   58              9             0             0              40   <=50K\n",
       "46232   17              6             0             0              15   <=50K\n",
       "30964   50             13             0             0              40   <=50K\n",
       "15099   51             13             0             0              45    >50K\n",
       "10707   43             11          3103             0              40    >50K\n",
       "23094   22              9             0             0              40   <=50K\n",
       "4394    37             13             0             0              40   <=50K"
      ],
      "text/html": "<div>\n<style scoped>\n    .dataframe tbody tr th:only-of-type {\n        vertical-align: middle;\n    }\n\n    .dataframe tbody tr th {\n        vertical-align: top;\n    }\n\n    .dataframe thead th {\n        text-align: right;\n    }\n</style>\n<table border=\"1\" class=\"dataframe\">\n  <thead>\n    <tr style=\"text-align: right;\">\n      <th></th>\n      <th>age</th>\n      <th>education-num</th>\n      <th>capital-gain</th>\n      <th>capital-loss</th>\n      <th>hours-per-week</th>\n      <th>class</th>\n    </tr>\n  </thead>\n  <tbody>\n    <tr>\n      <th>20143</th>\n      <td>41</td>\n      <td>11</td>\n      <td>0</td>\n      <td>1848</td>\n      <td>48</td>\n      <td>&gt;50K</td>\n    </tr>\n    <tr>\n      <th>42299</th>\n      <td>23</td>\n      <td>10</td>\n      <td>0</td>\n      <td>0</td>\n      <td>23</td>\n      <td>&lt;=50K</td>\n    </tr>\n    <tr>\n      <th>9087</th>\n      <td>48</td>\n      <td>10</td>\n      <td>0</td>\n      <td>0</td>\n      <td>45</td>\n      <td>&lt;=50K</td>\n    </tr>\n    <tr>\n      <th>40503</th>\n      <td>58</td>\n      <td>9</td>\n      <td>0</td>\n      <td>0</td>\n      <td>40</td>\n      <td>&lt;=50K</td>\n    </tr>\n    <tr>\n      <th>46232</th>\n      <td>17</td>\n      <td>6</td>\n      <td>0</td>\n      <td>0</td>\n      <td>15</td>\n      <td>&lt;=50K</td>\n    </tr>\n    <tr>\n      <th>30964</th>\n      <td>50</td>\n      <td>13</td>\n      <td>0</td>\n      <td>0</td>\n      <td>40</td>\n      <td>&lt;=50K</td>\n    </tr>\n    <tr>\n      <th>15099</th>\n      <td>51</td>\n      <td>13</td>\n      <td>0</td>\n      <td>0</td>\n      <td>45</td>\n      <td>&gt;50K</td>\n    </tr>\n    <tr>\n      <th>10707</th>\n      <td>43</td>\n      <td>11</td>\n      <td>3103</td>\n      <td>0</td>\n      <td>40</td>\n      <td>&gt;50K</td>\n    </tr>\n    <tr>\n      <th>23094</th>\n      <td>22</td>\n      <td>9</td>\n      <td>0</td>\n      <td>0</td>\n      <td>40</td>\n      <td>&lt;=50K</td>\n    </tr>\n    <tr>\n      <th>4394</th>\n      <td>37</td>\n      <td>13</td>\n      <td>0</td>\n      <td>0</td>\n      <td>40</td>\n      <td>&lt;=50K</td>\n    </tr>\n  </tbody>\n</table>\n</div>"
     },
     "metadata": {},
     "execution_count": 8
    }
   ],
   "source": [
    "adult_census_numerical.sample(10)"
   ]
  },
  {
   "source": [
    "## Separate the data and the target\n",
    "The next step now is to separate the data and target class "
   ],
   "cell_type": "markdown",
   "metadata": {}
  },
  {
   "cell_type": "code",
   "execution_count": 9,
   "metadata": {},
   "outputs": [
    {
     "output_type": "execute_result",
     "data": {
      "text/plain": [
       "0     <=50K\n",
       "1     <=50K\n",
       "2      >50K\n",
       "3      >50K\n",
       "4     <=50K\n",
       "Name: class, dtype: object"
      ]
     },
     "metadata": {},
     "execution_count": 9
    }
   ],
   "source": [
    "target_name = 'class'\n",
    "target = adult_census_numerical[target_name]\n",
    "target.head()"
   ]
  },
  {
   "cell_type": "code",
   "execution_count": 10,
   "metadata": {},
   "outputs": [
    {
     "output_type": "execute_result",
     "data": {
      "text/plain": [
       "   age  education-num  capital-gain  capital-loss  hours-per-week\n",
       "0   25              7             0             0              40\n",
       "1   38              9             0             0              50\n",
       "2   28             12             0             0              40\n",
       "3   44             10          7688             0              40\n",
       "4   18             10             0             0              30"
      ],
      "text/html": "<div>\n<style scoped>\n    .dataframe tbody tr th:only-of-type {\n        vertical-align: middle;\n    }\n\n    .dataframe tbody tr th {\n        vertical-align: top;\n    }\n\n    .dataframe thead th {\n        text-align: right;\n    }\n</style>\n<table border=\"1\" class=\"dataframe\">\n  <thead>\n    <tr style=\"text-align: right;\">\n      <th></th>\n      <th>age</th>\n      <th>education-num</th>\n      <th>capital-gain</th>\n      <th>capital-loss</th>\n      <th>hours-per-week</th>\n    </tr>\n  </thead>\n  <tbody>\n    <tr>\n      <th>0</th>\n      <td>25</td>\n      <td>7</td>\n      <td>0</td>\n      <td>0</td>\n      <td>40</td>\n    </tr>\n    <tr>\n      <th>1</th>\n      <td>38</td>\n      <td>9</td>\n      <td>0</td>\n      <td>0</td>\n      <td>50</td>\n    </tr>\n    <tr>\n      <th>2</th>\n      <td>28</td>\n      <td>12</td>\n      <td>0</td>\n      <td>0</td>\n      <td>40</td>\n    </tr>\n    <tr>\n      <th>3</th>\n      <td>44</td>\n      <td>10</td>\n      <td>7688</td>\n      <td>0</td>\n      <td>40</td>\n    </tr>\n    <tr>\n      <th>4</th>\n      <td>18</td>\n      <td>10</td>\n      <td>0</td>\n      <td>0</td>\n      <td>30</td>\n    </tr>\n  </tbody>\n</table>\n</div>"
     },
     "metadata": {},
     "execution_count": 10
    }
   ],
   "source": [
    "data = adult_census_numerical.drop(columns =[target_name, ])\n",
    "data.head()"
   ]
  },
  {
   "cell_type": "code",
   "execution_count": 13,
   "metadata": {},
   "outputs": [
    {
     "output_type": "stream",
     "name": "stdout",
     "text": [
      "The datasets contains 48842 samples and \n5  features\n"
     ]
    }
   ],
   "source": [
    "print(f\"The datasets contains {data.shape[0]} samples and \" + \"\\n\" + f\"{data.shape[1]}  features\")"
   ]
  },
  {
   "cell_type": "code",
   "execution_count": 14,
   "metadata": {},
   "outputs": [
    {
     "output_type": "execute_result",
     "data": {
      "text/plain": [
       "Index(['age', 'education-num', 'capital-gain', 'capital-loss',\n",
       "       'hours-per-week'],\n",
       "      dtype='object')"
      ]
     },
     "metadata": {},
     "execution_count": 14
    }
   ],
   "source": [
    "data.columns"
   ]
  },
  {
   "source": [
    "## Let's fit a model and make predictions\n",
    "Here, we will use the KNN algorithm from the scikit learn API. To predict the target of a new sample, a KNN takes into account it k closest sample and predicts the majority target of these samples. Note: K should always be a odd number to avoid a draw in the vote. "
   ],
   "cell_type": "markdown",
   "metadata": {}
  },
  {
   "cell_type": "code",
   "execution_count": 17,
   "metadata": {},
   "outputs": [],
   "source": [
    "# The fit method is used to train the model from the input (features) and data.\n",
    "from sklearn import set_config\n",
    "set_config(display='diagram') # displays nice model diagram\n"
   ]
  },
  {
   "cell_type": "code",
   "execution_count": 19,
   "metadata": {},
   "outputs": [
    {
     "output_type": "execute_result",
     "data": {
      "text/plain": [
       "KNeighborsClassifier()"
      ],
      "text/html": "<style>div.sk-top-container {color: black;background-color: white;}div.sk-toggleable {background-color: white;}label.sk-toggleable__label {cursor: pointer;display: block;width: 100%;margin-bottom: 0;padding: 0.2em 0.3em;box-sizing: border-box;text-align: center;}div.sk-toggleable__content {max-height: 0;max-width: 0;overflow: hidden;text-align: left;background-color: #f0f8ff;}div.sk-toggleable__content pre {margin: 0.2em;color: black;border-radius: 0.25em;background-color: #f0f8ff;}input.sk-toggleable__control:checked~div.sk-toggleable__content {max-height: 200px;max-width: 100%;overflow: auto;}div.sk-estimator input.sk-toggleable__control:checked~label.sk-toggleable__label {background-color: #d4ebff;}div.sk-label input.sk-toggleable__control:checked~label.sk-toggleable__label {background-color: #d4ebff;}input.sk-hidden--visually {border: 0;clip: rect(1px 1px 1px 1px);clip: rect(1px, 1px, 1px, 1px);height: 1px;margin: -1px;overflow: hidden;padding: 0;position: absolute;width: 1px;}div.sk-estimator {font-family: monospace;background-color: #f0f8ff;margin: 0.25em 0.25em;border: 1px dotted black;border-radius: 0.25em;box-sizing: border-box;}div.sk-estimator:hover {background-color: #d4ebff;}div.sk-parallel-item::after {content: \"\";width: 100%;border-bottom: 1px solid gray;flex-grow: 1;}div.sk-label:hover label.sk-toggleable__label {background-color: #d4ebff;}div.sk-serial::before {content: \"\";position: absolute;border-left: 1px solid gray;box-sizing: border-box;top: 2em;bottom: 0;left: 50%;}div.sk-serial {display: flex;flex-direction: column;align-items: center;background-color: white;}div.sk-item {z-index: 1;}div.sk-parallel {display: flex;align-items: stretch;justify-content: center;background-color: white;}div.sk-parallel-item {display: flex;flex-direction: column;position: relative;background-color: white;}div.sk-parallel-item:first-child::after {align-self: flex-end;width: 50%;}div.sk-parallel-item:last-child::after {align-self: flex-start;width: 50%;}div.sk-parallel-item:only-child::after {width: 0;}div.sk-dashed-wrapped {border: 1px dashed gray;margin: 0.2em;box-sizing: border-box;padding-bottom: 0.1em;background-color: white;position: relative;}div.sk-label label {font-family: monospace;font-weight: bold;background-color: white;display: inline-block;line-height: 1.2em;}div.sk-label-container {position: relative;z-index: 2;text-align: center;}div.sk-container {display: inline-block;position: relative;}</style><div class=\"sk-top-container\"><div class=\"sk-container\"><div class=\"sk-item\"><div class=\"sk-estimator sk-toggleable\"><input class=\"sk-toggleable__control sk-hidden--visually\" id=\"64e89f97-735a-4fbd-a854-ac9a2084e685\" type=\"checkbox\" checked><label class=\"sk-toggleable__label\" for=\"64e89f97-735a-4fbd-a854-ac9a2084e685\">KNeighborsClassifier</label><div class=\"sk-toggleable__content\"><pre>KNeighborsClassifier()</pre></div></div></div></div></div>"
     },
     "metadata": {},
     "execution_count": 19
    }
   ],
   "source": [
    "from sklearn.neighbors import KNeighborsClassifier\n",
    "\n",
    "model = KNeighborsClassifier()\n",
    "model.fit(data, target)"
   ]
  },
  {
   "source": [
    "It is important to remember that the method fit comprise of two major components, i.) a learning algorithm and ii.) some model state. The learning algorithm takes the training data and training target and sets the model states. These model states will be used later to predict (for classifier and regressor) or transform (for transformers)"
   ],
   "cell_type": "markdown",
   "metadata": {}
  },
  {
   "cell_type": "code",
   "execution_count": 21,
   "metadata": {},
   "outputs": [],
   "source": [
    "#Using the same datasets, we can use our model to predict. \n",
    "target_predicted = model.predict(data)"
   ]
  },
  {
   "source": [
    "The model uses a prediction function that uses the input data together with the model states to make predictions. The prediction function is specific to each model type depending on the learning algorithm and model states. "
   ],
   "cell_type": "markdown",
   "metadata": {}
  },
  {
   "cell_type": "code",
   "execution_count": 25,
   "metadata": {},
   "outputs": [
    {
     "output_type": "execute_result",
     "data": {
      "text/plain": [
       "array([' <=50K', ' <=50K', ' <=50K', ' >50K', ' <=50K'], dtype=object)"
      ]
     },
     "metadata": {},
     "execution_count": 25
    }
   ],
   "source": [
    "# We can now take a look at our predicted targets:\n",
    "target_predicted[:5]"
   ]
  },
  {
   "cell_type": "code",
   "execution_count": 27,
   "metadata": {},
   "outputs": [
    {
     "output_type": "execute_result",
     "data": {
      "text/plain": [
       "0     <=50K\n",
       "1     <=50K\n",
       "2      >50K\n",
       "3      >50K\n",
       "4     <=50K\n",
       "Name: class, dtype: object"
      ]
     },
     "metadata": {},
     "execution_count": 27
    }
   ],
   "source": [
    "# We can also compare the predictions to the actual data. \n",
    "target[:5]"
   ]
  },
  {
   "cell_type": "code",
   "execution_count": 28,
   "metadata": {},
   "outputs": [
    {
     "output_type": "execute_result",
     "data": {
      "text/plain": [
       "0     True\n",
       "1     True\n",
       "2    False\n",
       "3     True\n",
       "4     True\n",
       "Name: class, dtype: bool"
      ]
     },
     "metadata": {},
     "execution_count": 28
    }
   ],
   "source": [
    "target[:5] == target_predicted[:5]"
   ]
  },
  {
   "cell_type": "code",
   "execution_count": 34,
   "metadata": {},
   "outputs": [
    {
     "output_type": "execute_result",
     "data": {
      "text/plain": [
       "(48842, 5)"
      ]
     },
     "metadata": {},
     "execution_count": 34
    }
   ],
   "source": [
    "data.shape"
   ]
  },
  {
   "cell_type": "code",
   "execution_count": 35,
   "metadata": {},
   "outputs": [
    {
     "output_type": "stream",
     "name": "stdout",
     "text": [
      "Number of correct prediction: 41719 / 48842 \n"
     ]
    }
   ],
   "source": [
    "print(f\"Number of correct prediction: \"\n",
    "      f\"{(target== target_predicted).sum()} / 48842 \")"
   ]
  },
  {
   "cell_type": "code",
   "execution_count": 36,
   "metadata": {},
   "outputs": [
    {
     "output_type": "execute_result",
     "data": {
      "text/plain": [
       "0.8541624012120715"
      ]
     },
     "metadata": {},
     "execution_count": 36
    }
   ],
   "source": [
    "# To get a better assessment of the model, we compute the average success rate\n",
    "(target == target_predicted).mean()"
   ]
  },
  {
   "source": [
    "This evaluation method can, however, not be trusted as much. It looks too good to be true, since we also tested the model with the data it has seen before. We may have our doubts. \n",
    "To get a better assessment of the model performance, we should rather train the model on an unseen data. This is where we will use the Train Test Strategy. "
   ],
   "cell_type": "markdown",
   "metadata": {}
  },
  {
   "source": [
    "## Split Data into Train and Test Sets\n",
    "When building a machine learning model, it is important to note that generalization is more than memorization (that is, we want a model that generalizes to a new data and not to data that has been memorized). Hence, we would like to test our model on data it has not seen before. This is because of the difficulty of concluding on never-seen before instances than already seen ones.\n",
    "\n",
    "This approach allows for the correct evaluation of our model. That is, leaving out a subset of our data when training the model and using it afterwards for evaluating the model's performance. "
   ],
   "cell_type": "markdown",
   "metadata": {}
  },
  {
   "cell_type": "code",
   "execution_count": 37,
   "metadata": {},
   "outputs": [
    {
     "output_type": "execute_result",
     "data": {
      "text/plain": [
       "(48842, 6)"
      ]
     },
     "metadata": {},
     "execution_count": 37
    }
   ],
   "source": [
    "adult_census_numerical.shape"
   ]
  },
  {
   "cell_type": "code",
   "execution_count": 39,
   "metadata": {},
   "outputs": [],
   "source": [
    "target_test = adult_census_numerical[target_name]\n",
    "data_test = adult_census_numerical.drop(columns=[target_name, ])"
   ]
  },
  {
   "cell_type": "code",
   "execution_count": 40,
   "metadata": {},
   "outputs": [
    {
     "output_type": "stream",
     "name": "stdout",
     "text": [
      "The training datasets contain 48842 samples and 5 features\n"
     ]
    }
   ],
   "source": [
    "print(f\"The training datasets contain {data_test.shape[0]} samples and \"\n",
    "      f\"{data_test.shape[1]} features\")"
   ]
  },
  {
   "source": [
    "At this point, we can compute the statistical performance instead of manually computing the average success rate. The score method returns the performance metric when dealing with classifiers. "
   ],
   "cell_type": "markdown",
   "metadata": {}
  },
  {
   "cell_type": "code",
   "execution_count": 45,
   "metadata": {},
   "outputs": [
    {
     "output_type": "stream",
     "name": "stdout",
     "text": [
      "The test accuracy using a KNeighborsClassifier is 0.854\n"
     ]
    }
   ],
   "source": [
    "accuracy = model.score(data_test, target_test)\n",
    "model_name = model.__class__.__name__\n",
    "\n",
    "print(f\"The test accuracy using a {model_name} is \"\n",
    "      f\"{accuracy:.3f}\")"
   ]
  },
  {
   "source": [
    "### Conclusion\n",
    "If we compare the accuracy obtained when we evaluated the model on the training set to the score derived from an held=out test set, we will see that the evaluation was indeed optimistic. This shows us the importance of always testing the statistical performance of models on different data sets than the ones we used in training them. \n",
    "\n",
    "In this notebook, we used the sklearn API to fit a KNN model using the fit method,evaluated the statistical performance of model on the testing data using the score method.  "
   ],
   "cell_type": "markdown",
   "metadata": {}
  },
  {
   "cell_type": "code",
   "execution_count": 46,
   "metadata": {},
   "outputs": [],
   "source": [
    " #Save the Adult Census Numerical Data to a CSV file for use in other analysis.\n",
    " adult_census_numerical.to_csv(\"adult_census_numerical.csv\")"
   ]
  }
 ]
}