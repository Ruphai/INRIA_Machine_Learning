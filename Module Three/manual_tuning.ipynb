{
 "metadata": {
  "language_info": {
   "codemirror_mode": {
    "name": "ipython",
    "version": 3
   },
   "file_extension": ".py",
   "mimetype": "text/x-python",
   "name": "python",
   "nbconvert_exporter": "python",
   "pygments_lexer": "ipython3",
   "version": "3.8.8"
  },
  "orig_nbformat": 4,
  "kernelspec": {
   "name": "python3",
   "display_name": "Python 3.8.8 64-bit ('base': conda)"
  },
  "interpreter": {
   "hash": "9be38a6015254017d4edd2046b770be20849a1c5b230911009defc72922fbf9d"
  }
 },
 "nbformat": 4,
 "nbformat_minor": 2,
 "cells": [
  {
   "source": [
    "# Hyperparameters tuning\n",
    "Hyperparameter tuning is a blend of manual and automatic techniques for adjusting paramters that control the learning process of a machine learning model. These parameters have an impact on the performance of these model and as such default values are not necessarily the best options. "
   ],
   "cell_type": "markdown",
   "metadata": {}
  },
  {
   "cell_type": "code",
   "execution_count": 3,
   "metadata": {},
   "outputs": [],
   "source": [
    "import pandas as pd\n",
    "\n",
    "adult_census = pd.read_csv(\"../Module One/adult_census.csv\")\n",
    "\n",
    "target_name = \"class\"\n",
    "numerical_columns = [\n",
    "    \"age\", \"capital-gain\", \"capital-loss\", \"hours-per-week\"]\n",
    "\n",
    "target = adult_census[target_name]\n",
    "data = adult_census[numerical_columns]"
   ]
  },
  {
   "cell_type": "code",
   "execution_count": 4,
   "metadata": {},
   "outputs": [
    {
     "output_type": "execute_result",
     "data": {
      "text/plain": [
       "   age  capital-gain  capital-loss  hours-per-week\n",
       "0   25             0             0              40\n",
       "1   38             0             0              50\n",
       "2   28             0             0              40\n",
       "3   44          7688             0              40\n",
       "4   18             0             0              30"
      ],
      "text/html": "<div>\n<style scoped>\n    .dataframe tbody tr th:only-of-type {\n        vertical-align: middle;\n    }\n\n    .dataframe tbody tr th {\n        vertical-align: top;\n    }\n\n    .dataframe thead th {\n        text-align: right;\n    }\n</style>\n<table border=\"1\" class=\"dataframe\">\n  <thead>\n    <tr style=\"text-align: right;\">\n      <th></th>\n      <th>age</th>\n      <th>capital-gain</th>\n      <th>capital-loss</th>\n      <th>hours-per-week</th>\n    </tr>\n  </thead>\n  <tbody>\n    <tr>\n      <th>0</th>\n      <td>25</td>\n      <td>0</td>\n      <td>0</td>\n      <td>40</td>\n    </tr>\n    <tr>\n      <th>1</th>\n      <td>38</td>\n      <td>0</td>\n      <td>0</td>\n      <td>50</td>\n    </tr>\n    <tr>\n      <th>2</th>\n      <td>28</td>\n      <td>0</td>\n      <td>0</td>\n      <td>40</td>\n    </tr>\n    <tr>\n      <th>3</th>\n      <td>44</td>\n      <td>7688</td>\n      <td>0</td>\n      <td>40</td>\n    </tr>\n    <tr>\n      <th>4</th>\n      <td>18</td>\n      <td>0</td>\n      <td>0</td>\n      <td>30</td>\n    </tr>\n  </tbody>\n</table>\n</div>"
     },
     "metadata": {},
     "execution_count": 4
    }
   ],
   "source": [
    "data.head()"
   ]
  },
  {
   "cell_type": "code",
   "execution_count": 6,
   "metadata": {},
   "outputs": [
    {
     "output_type": "execute_result",
     "data": {
      "text/plain": [
       "       age          workclass  fnlwgt      education  education-num  \\\n",
       "39222   44            Private   85440        HS-grad              9   \n",
       "43102   22            Private  279901        HS-grad              9   \n",
       "3268    25            Private  198512      Bachelors             13   \n",
       "37879   24            Private  291407        HS-grad              9   \n",
       "42244   61   Self-emp-not-inc  221884   Some-college             10   \n",
       "\n",
       "            marital-status         occupation    relationship    race  \\\n",
       "39222   Married-civ-spouse       Adm-clerical         Husband   White   \n",
       "43102   Married-civ-spouse      Other-service       Own-child   Black   \n",
       "3268         Never-married    Exec-managerial   Not-in-family   White   \n",
       "37879   Married-civ-spouse   Transport-moving         Husband   Black   \n",
       "42244   Married-civ-spouse       Adm-clerical         Husband   White   \n",
       "\n",
       "           sex  capital-gain  capital-loss  hours-per-week  native-country  \\\n",
       "39222     Male             0             0              45   United-States   \n",
       "43102     Male             0             0              40   United-States   \n",
       "3268    Female             0             0              40   United-States   \n",
       "37879     Male             0             0              40   United-States   \n",
       "42244     Male             0             0              50   United-States   \n",
       "\n",
       "        class  \n",
       "39222   <=50K  \n",
       "43102   <=50K  \n",
       "3268    <=50K  \n",
       "37879   <=50K  \n",
       "42244    >50K  "
      ],
      "text/html": "<div>\n<style scoped>\n    .dataframe tbody tr th:only-of-type {\n        vertical-align: middle;\n    }\n\n    .dataframe tbody tr th {\n        vertical-align: top;\n    }\n\n    .dataframe thead th {\n        text-align: right;\n    }\n</style>\n<table border=\"1\" class=\"dataframe\">\n  <thead>\n    <tr style=\"text-align: right;\">\n      <th></th>\n      <th>age</th>\n      <th>workclass</th>\n      <th>fnlwgt</th>\n      <th>education</th>\n      <th>education-num</th>\n      <th>marital-status</th>\n      <th>occupation</th>\n      <th>relationship</th>\n      <th>race</th>\n      <th>sex</th>\n      <th>capital-gain</th>\n      <th>capital-loss</th>\n      <th>hours-per-week</th>\n      <th>native-country</th>\n      <th>class</th>\n    </tr>\n  </thead>\n  <tbody>\n    <tr>\n      <th>39222</th>\n      <td>44</td>\n      <td>Private</td>\n      <td>85440</td>\n      <td>HS-grad</td>\n      <td>9</td>\n      <td>Married-civ-spouse</td>\n      <td>Adm-clerical</td>\n      <td>Husband</td>\n      <td>White</td>\n      <td>Male</td>\n      <td>0</td>\n      <td>0</td>\n      <td>45</td>\n      <td>United-States</td>\n      <td>&lt;=50K</td>\n    </tr>\n    <tr>\n      <th>43102</th>\n      <td>22</td>\n      <td>Private</td>\n      <td>279901</td>\n      <td>HS-grad</td>\n      <td>9</td>\n      <td>Married-civ-spouse</td>\n      <td>Other-service</td>\n      <td>Own-child</td>\n      <td>Black</td>\n      <td>Male</td>\n      <td>0</td>\n      <td>0</td>\n      <td>40</td>\n      <td>United-States</td>\n      <td>&lt;=50K</td>\n    </tr>\n    <tr>\n      <th>3268</th>\n      <td>25</td>\n      <td>Private</td>\n      <td>198512</td>\n      <td>Bachelors</td>\n      <td>13</td>\n      <td>Never-married</td>\n      <td>Exec-managerial</td>\n      <td>Not-in-family</td>\n      <td>White</td>\n      <td>Female</td>\n      <td>0</td>\n      <td>0</td>\n      <td>40</td>\n      <td>United-States</td>\n      <td>&lt;=50K</td>\n    </tr>\n    <tr>\n      <th>37879</th>\n      <td>24</td>\n      <td>Private</td>\n      <td>291407</td>\n      <td>HS-grad</td>\n      <td>9</td>\n      <td>Married-civ-spouse</td>\n      <td>Transport-moving</td>\n      <td>Husband</td>\n      <td>Black</td>\n      <td>Male</td>\n      <td>0</td>\n      <td>0</td>\n      <td>40</td>\n      <td>United-States</td>\n      <td>&lt;=50K</td>\n    </tr>\n    <tr>\n      <th>42244</th>\n      <td>61</td>\n      <td>Self-emp-not-inc</td>\n      <td>221884</td>\n      <td>Some-college</td>\n      <td>10</td>\n      <td>Married-civ-spouse</td>\n      <td>Adm-clerical</td>\n      <td>Husband</td>\n      <td>White</td>\n      <td>Male</td>\n      <td>0</td>\n      <td>0</td>\n      <td>50</td>\n      <td>United-States</td>\n      <td>&gt;50K</td>\n    </tr>\n  </tbody>\n</table>\n</div>"
     },
     "metadata": {},
     "execution_count": 6
    }
   ],
   "source": [
    "adult_census.sample(5)"
   ]
  },
  {
   "source": [
    "Since models work better when all the features have a similar scaling, we use `StandardScaler` to transform the data by rescaling features. "
   ],
   "cell_type": "markdown",
   "metadata": {}
  },
  {
   "cell_type": "code",
   "execution_count": 8,
   "metadata": {},
   "outputs": [],
   "source": [
    "from sklearn.pipeline import Pipeline\n",
    "from sklearn.preprocessing import StandardScaler\n",
    "from sklearn.linear_model import LogisticRegression\n",
    "\n",
    "model = Pipeline(steps = [\n",
    "    (\"preprocessor\", StandardScaler()), \n",
    "    (\"classifier\", LogisticRegression())\n",
    "])"
   ]
  },
  {
   "source": [
    "Now, we do a simple evaluation of the statistical performance of the model using cross validation. "
   ],
   "cell_type": "markdown",
   "metadata": {}
  },
  {
   "cell_type": "code",
   "execution_count": 10,
   "metadata": {},
   "outputs": [
    {
     "output_type": "stream",
     "name": "stdout",
     "text": [
      "Accuracy score via cross-validation: \n0.800 +/- 0.003\n"
     ]
    }
   ],
   "source": [
    "from sklearn.model_selection import cross_validate\n",
    "\n",
    "cv_results = cross_validate(model, data, target)\n",
    "scores = cv_results[\"test_score\"]\n",
    "\n",
    "print(f\"Accuracy score via cross-validation: \\n\"\n",
    "        f\"{scores.mean():.3f} +/- {scores.std():.3f}\")"
   ]
  },
  {
   "source": [
    "We can change the parameter of a model after it has been created with `set_params` method, which is available for all scikit-learn estimators. And then re-evaluate the model. "
   ],
   "cell_type": "markdown",
   "metadata": {}
  },
  {
   "cell_type": "code",
   "execution_count": 12,
   "metadata": {},
   "outputs": [
    {
     "output_type": "stream",
     "name": "stdout",
     "text": [
      "Accuracy score via cross-validation: \n0.787 +/- 0.002\n"
     ]
    }
   ],
   "source": [
    "model.set_params(classifier__C=1e-3)\n",
    "cv_results = cross_validate(model, data, target)\n",
    "scores = cv_results[\"test_score\"]\n",
    "\n",
    "print(f\"Accuracy score via cross-validation: \\n\"\n",
    "        f\"{scores.mean():.3f} +/- {scores.std():.3f}\")"
   ]
  },
  {
   "source": [
    "When the model of interest is a Pipeline, the parameter names are of the form <model_name>__<parameter_name> (note the double underscore in the middle). In our case, `classifier` comes from the Pipeline definition and `C` is the parameter name of `LogisticRegression`."
   ],
   "cell_type": "markdown",
   "metadata": {}
  },
  {
   "cell_type": "code",
   "execution_count": 16,
   "metadata": {},
   "outputs": [
    {
     "output_type": "stream",
     "name": "stdout",
     "text": [
      "memory\nsteps\nverbose\npreprocessor\nclassifier\npreprocessor__copy\npreprocessor__with_mean\npreprocessor__with_std\nclassifier__C\nclassifier__class_weight\nclassifier__dual\nclassifier__fit_intercept\nclassifier__intercept_scaling\nclassifier__l1_ratio\nclassifier__max_iter\nclassifier__multi_class\nclassifier__n_jobs\nclassifier__penalty\nclassifier__random_state\nclassifier__solver\nclassifier__tol\nclassifier__verbose\nclassifier__warm_start\n"
     ]
    }
   ],
   "source": [
    "for parameter in model.get_params(): \n",
    "    print(parameter)"
   ]
  },
  {
   "cell_type": "code",
   "execution_count": 17,
   "metadata": {},
   "outputs": [
    {
     "output_type": "execute_result",
     "data": {
      "text/plain": [
       "0.001"
      ]
     },
     "metadata": {},
     "execution_count": 17
    }
   ],
   "source": [
    " model.get_params()['classifier__C']"
   ]
  },
  {
   "cell_type": "code",
   "execution_count": 18,
   "metadata": {},
   "outputs": [
    {
     "output_type": "stream",
     "name": "stdout",
     "text": [
      "Accuracy score via cross-validation: \n",
      "0.787 +/- 0.002\n",
      "Accuracy score via cross-validation: \n",
      "0.799 +/- 0.003\n",
      "Accuracy score via cross-validation: \n",
      "0.800 +/- 0.003\n",
      "Accuracy score via cross-validation: \n",
      "0.800 +/- 0.003\n",
      "Accuracy score via cross-validation: \n",
      "0.800 +/- 0.003\n"
     ]
    }
   ],
   "source": [
    "# We can systematically vary the value of C to see if there is an optimal value\n",
    "for C in [1e-3, 1e-2, 1e-1, 1, 10]:\n",
    "    model.set_params(classifier__C=C)\n",
    "    cv_results = cross_validate(model, data, target)\n",
    "    scores = cv_results[\"test_score\"]\n",
    "    \n",
    "    print(f\"Accuracy score via cross-validation: \\n\"\n",
    "        f\"{scores.mean():.3f} +/- {scores.std():.3f}\")"
   ]
  },
  {
   "source": [
    "The output shows that as long as C is high enough, the model performs well. "
   ],
   "cell_type": "markdown",
   "metadata": {}
  }
 ]
}