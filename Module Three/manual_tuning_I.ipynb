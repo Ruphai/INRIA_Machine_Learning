{
 "metadata": {
  "language_info": {
   "codemirror_mode": {
    "name": "ipython",
    "version": 3
   },
   "file_extension": ".py",
   "mimetype": "text/x-python",
   "name": "python",
   "nbconvert_exporter": "python",
   "pygments_lexer": "ipython3",
   "version": "3.8.8"
  },
  "orig_nbformat": 4,
  "kernelspec": {
   "name": "python3",
   "display_name": "Python 3.8.8 64-bit ('base': conda)"
  },
  "interpreter": {
   "hash": "9be38a6015254017d4edd2046b770be20849a1c5b230911009defc72922fbf9d"
  }
 },
 "nbformat": 4,
 "nbformat_minor": 2,
 "cells": [
  {
   "cell_type": "code",
   "execution_count": 1,
   "metadata": {},
   "outputs": [],
   "source": [
    "import pandas as pd\n",
    "\n",
    "from sklearn.model_selection import train_test_split\n",
    "\n",
    "adult_census = pd.read_csv(\"../Module One/adult_census.csv\")\n",
    "\n",
    "target_name = \"class\"\n",
    "target = adult_census[target_name]\n",
    "data = adult_census.drop(columns=[target_name, \"education-num\"])\n",
    "\n",
    "data_train, data_test, target_train, target_test = train_test_split(\n",
    "    data, target, train_size=0.2, random_state=42)"
   ]
  },
  {
   "cell_type": "code",
   "execution_count": 2,
   "metadata": {},
   "outputs": [],
   "source": [
    "from sklearn.compose import ColumnTransformer\n",
    "from sklearn.compose import make_column_selector as selector\n",
    "from sklearn.preprocessing import OrdinalEncoder\n",
    "\n",
    "categorical_preprocessor = OrdinalEncoder(handle_unknown=\"use_encoded_value\",\n",
    "                                          unknown_value=-1)\n",
    "preprocessor = ColumnTransformer(\n",
    "    [('cat-preprocessor', categorical_preprocessor,\n",
    "      selector(dtype_include=object))],\n",
    "    remainder='passthrough', sparse_threshold=0)\n",
    "\n",
    "# This line is currently required to import HistGradientBoostingClassifier\n",
    "from sklearn.experimental import enable_hist_gradient_boosting\n",
    "from sklearn.ensemble import HistGradientBoostingClassifier\n",
    "from sklearn.pipeline import Pipeline\n",
    "\n",
    "model = Pipeline([\n",
    "    (\"preprocessor\", preprocessor),\n",
    "    (\"classifier\", HistGradientBoostingClassifier(random_state=42))\n",
    "])"
   ]
  },
  {
   "cell_type": "code",
   "execution_count": 4,
   "metadata": {},
   "outputs": [
    {
     "output_type": "stream",
     "name": "stdout",
     "text": [
      "Accuracy score via cross-validation: \n",
      "0.799 +/- 0.001\n",
      "Accuracy score via cross-validation: \n",
      "0.820 +/- 0.002\n",
      "Accuracy score via cross-validation: \n",
      "0.848 +/- 0.002\n",
      "Accuracy score via cross-validation: \n",
      "0.856 +/- 0.003\n",
      "Accuracy score via cross-validation: \n",
      "0.871 +/- 0.001\n",
      "Accuracy score via cross-validation: \n",
      "0.874 +/- 0.002\n",
      "Accuracy score via cross-validation: \n",
      "0.870 +/- 0.004\n",
      "Accuracy score via cross-validation: \n",
      "0.866 +/- 0.003\n",
      "Accuracy score via cross-validation: \n",
      "0.861 +/- 0.003\n",
      "Accuracy score via cross-validation: \n",
      "0.281 +/- 0.004\n",
      "Accuracy score via cross-validation: \n",
      "0.761 +/- 0.045\n",
      "Accuracy score via cross-validation: \n",
      "0.619 +/- 0.180\n"
     ]
    }
   ],
   "source": [
    "# Write your code here.\n",
    "from sklearn.model_selection import cross_val_score\n",
    "\n",
    "learning_rate = [0.01, 0.1, 1, 10]\n",
    "max_leaf_nodes= [3, 10, 30]\n",
    "\n",
    "for l in learning_rate:\n",
    "    model.set_params(classifier__learning_rate = l)\n",
    "    for m in max_leaf_nodes:\n",
    "        model.set_params(classifier__max_leaf_nodes = m)\n",
    "        cv_results = cross_val_score(model, data, target)\n",
    "        print(f\"Accuracy score via cross-validation: \\n\"\n",
    "              f\"{cv_results.mean():.3f} +/- {cv_results.std():.3f}\")\n"
   ]
  },
  {
   "cell_type": "code",
   "execution_count": 5,
   "metadata": {},
   "outputs": [
    {
     "output_type": "stream",
     "name": "stdout",
     "text": [
      "memory\nsteps\nverbose\npreprocessor\nclassifier\npreprocessor__n_jobs\npreprocessor__remainder\npreprocessor__sparse_threshold\npreprocessor__transformer_weights\npreprocessor__transformers\npreprocessor__verbose\npreprocessor__cat-preprocessor\npreprocessor__cat-preprocessor__categories\npreprocessor__cat-preprocessor__dtype\npreprocessor__cat-preprocessor__handle_unknown\npreprocessor__cat-preprocessor__unknown_value\nclassifier__categorical_features\nclassifier__early_stopping\nclassifier__l2_regularization\nclassifier__learning_rate\nclassifier__loss\nclassifier__max_bins\nclassifier__max_depth\nclassifier__max_iter\nclassifier__max_leaf_nodes\nclassifier__min_samples_leaf\nclassifier__monotonic_cst\nclassifier__n_iter_no_change\nclassifier__random_state\nclassifier__scoring\nclassifier__tol\nclassifier__validation_fraction\nclassifier__verbose\nclassifier__warm_start\n"
     ]
    }
   ],
   "source": [
    "for m in model.get_params().keys():\n",
    "    print(m)"
   ]
  },
  {
   "cell_type": "code",
   "execution_count": null,
   "metadata": {},
   "outputs": [],
   "source": []
  }
 ]
}